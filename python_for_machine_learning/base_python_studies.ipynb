{
  "nbformat": 4,
  "nbformat_minor": 0,
  "metadata": {
    "colab": {
      "provenance": []
    },
    "kernelspec": {
      "name": "python3",
      "display_name": "Python 3"
    },
    "language_info": {
      "name": "python"
    }
  },
  "cells": [
    {
      "cell_type": "markdown",
      "source": [
        "# **Case 1: String Conversion and Manipulation**"
      ],
      "metadata": {
        "id": "IuEMNrKWsuUH"
      }
    },
    {
      "cell_type": "code",
      "execution_count": null,
      "metadata": {
        "colab": {
          "base_uri": "https://localhost:8080/"
        },
        "id": "Nl-_HCf-r-61",
        "outputId": "0c611558-213f-44fa-f1ea-bba554cab4c2"
      },
      "outputs": [
        {
          "output_type": "execute_result",
          "data": {
            "text/plain": [
              "['THE',\n",
              " 'GOAL',\n",
              " 'IS',\n",
              " 'TO',\n",
              " 'TURN',\n",
              " 'DATA',\n",
              " 'INTO',\n",
              " 'INFORMATION',\n",
              " 'AND',\n",
              " 'INFORMATION',\n",
              " 'INTO',\n",
              " 'INSIGHT']"
            ]
          },
          "metadata": {},
          "execution_count": 2
        }
      ],
      "source": [
        "###############################################\n",
        "# Capitalize all letters of the given string expression. Replace comma and period with space and separate word by word.\n",
        "###############################################\n",
        "text = \"The goal is to turn data into information, and information into insight.\"\n",
        "text.upper().replace(\",\",\"\").replace(\".\",\"\").split()"
      ]
    },
    {
      "cell_type": "markdown",
      "source": [
        "# **Case 2: List Operations**"
      ],
      "metadata": {
        "id": "HYtO3oDmsn8T"
      }
    },
    {
      "cell_type": "code",
      "source": [
        "###############################################\n",
        "# Apply the following steps to the given list.\n",
        "###############################################\n",
        "lst = ['D', 'A', 'T', 'A', 'S', 'C', 'I', 'E', 'N', 'C', 'E'] # Given list"
      ],
      "metadata": {
        "id": "Jdk_R1aYsjnR"
      },
      "execution_count": null,
      "outputs": []
    },
    {
      "cell_type": "code",
      "source": [
        "# Step 1: Check the number of elements of the given list.\n",
        "print(\"Number of elements of the given list:\",len(lst))"
      ],
      "metadata": {
        "colab": {
          "base_uri": "https://localhost:8080/"
        },
        "id": "7c99sVkctOkH",
        "outputId": "3676b768-0951-47b1-ac6f-9f487f48d216"
      },
      "execution_count": null,
      "outputs": [
        {
          "output_type": "stream",
          "name": "stdout",
          "text": [
            "Number of elements of the given list: 11\n"
          ]
        }
      ]
    },
    {
      "cell_type": "code",
      "source": [
        "# Step 2: Call the elements in the first and tenth index.\n",
        "print(f\"First Index:{lst[0]}\\nTenth Index:{lst[10]}\")"
      ],
      "metadata": {
        "colab": {
          "base_uri": "https://localhost:8080/"
        },
        "id": "W_zZOgp-tPuW",
        "outputId": "6fee2abb-843c-461c-d722-e5af9e6b2b25"
      },
      "execution_count": null,
      "outputs": [
        {
          "output_type": "stream",
          "name": "stdout",
          "text": [
            "First Index:D\n",
            "Tenth Index:E\n"
          ]
        }
      ]
    },
    {
      "cell_type": "code",
      "source": [
        "# Step 3: Create a list [\"D\", \"A\", \"T\", \"A\"] from the given list.\n",
        "lst[:4]\n",
        "print(lst)"
      ],
      "metadata": {
        "colab": {
          "base_uri": "https://localhost:8080/"
        },
        "id": "iOBfz1y1tQ6p",
        "outputId": "99a419aa-1842-424e-ac7a-358ae0cca452"
      },
      "execution_count": null,
      "outputs": [
        {
          "output_type": "stream",
          "name": "stdout",
          "text": [
            "['D', 'A', 'T', 'A', 'S', 'C', 'I', 'E', 'N', 'C', 'E']\n"
          ]
        }
      ]
    },
    {
      "cell_type": "code",
      "source": [
        "# Step 4: Delete the element in the eighth index.\n",
        "lst.pop(8)\n",
        "print(lst)"
      ],
      "metadata": {
        "colab": {
          "base_uri": "https://localhost:8080/"
        },
        "id": "Q0F4ibA_tR5g",
        "outputId": "f3c50fb7-02d7-4b23-8484-5efa4340b620"
      },
      "execution_count": null,
      "outputs": [
        {
          "output_type": "stream",
          "name": "stdout",
          "text": [
            "['D', 'A', 'T', 'A', 'S', 'C', 'I', 'E', 'C', 'E']\n"
          ]
        }
      ]
    },
    {
      "cell_type": "code",
      "source": [
        "# Step 5: Add a new element.\n",
        "lst.append(\"S\")\n",
        "print(lst)"
      ],
      "metadata": {
        "colab": {
          "base_uri": "https://localhost:8080/"
        },
        "id": "7ndAD5K6tUmD",
        "outputId": "bf5d4f4b-daf7-44fc-d197-4f27c9b69c45"
      },
      "execution_count": null,
      "outputs": [
        {
          "output_type": "stream",
          "name": "stdout",
          "text": [
            "['D', 'A', 'T', 'A', 'S', 'C', 'I', 'E', 'C', 'E', 'S']\n"
          ]
        }
      ]
    },
    {
      "cell_type": "code",
      "source": [
        "# Step 6: Add the \"N\" element again in the eighth index.\n",
        "lst.insert(7,\"N\")\n",
        "print(lst)"
      ],
      "metadata": {
        "colab": {
          "base_uri": "https://localhost:8080/"
        },
        "id": "FTcsaEWNtVcr",
        "outputId": "171a5a9c-c878-4663-dc2c-61e472bfb171"
      },
      "execution_count": null,
      "outputs": [
        {
          "output_type": "stream",
          "name": "stdout",
          "text": [
            "['D', 'A', 'T', 'A', 'S', 'C', 'I', 'N', 'E', 'C', 'E', 'S']\n"
          ]
        }
      ]
    },
    {
      "cell_type": "markdown",
      "source": [
        "# **Case 3: Dictionary Operations**"
      ],
      "metadata": {
        "id": "rDRLs4xftGeX"
      }
    },
    {
      "cell_type": "code",
      "source": [
        "###############################################\n",
        "# Apply the following steps to the given list.\n",
        "###############################################\n",
        "dictionary = {'Christian':[\"America\",18],\n",
        "\t\t'Daisy':[\"England\",12],\n",
        "\t\t'Antonio':['Spain',22],\n",
        "\t\t'Dante':['Italy',25]} # Given list"
      ],
      "metadata": {
        "id": "pN_zn2MftIBC"
      },
      "execution_count": null,
      "outputs": []
    },
    {
      "cell_type": "code",
      "source": [
        "# Step 1: Access the key values.\n",
        "print(dictionary.keys())"
      ],
      "metadata": {
        "colab": {
          "base_uri": "https://localhost:8080/"
        },
        "id": "q40O6KgOtzCM",
        "outputId": "7ce8a70b-79c8-441d-daca-05f729190f68"
      },
      "execution_count": null,
      "outputs": [
        {
          "output_type": "stream",
          "name": "stdout",
          "text": [
            "dict_keys(['Christian', 'Daisy', 'Antonio', 'Dante'])\n"
          ]
        }
      ]
    },
    {
      "cell_type": "code",
      "source": [
        "# Step 2: Access the values.\n",
        "print(dictionary.values())"
      ],
      "metadata": {
        "colab": {
          "base_uri": "https://localhost:8080/"
        },
        "id": "1PTkzboMuEmk",
        "outputId": "8890727f-331b-40c9-d3eb-e1fc179f6ce8"
      },
      "execution_count": null,
      "outputs": [
        {
          "output_type": "stream",
          "name": "stdout",
          "text": [
            "dict_values([['America', 18], ['England', 12], ['Spain', 22], ['Italy', 25]])\n"
          ]
        }
      ]
    },
    {
      "cell_type": "code",
      "source": [
        "# Step 3: Update the value 12 of the Daisy key to 13.\n",
        "dictionary['Daisy'][1] = 13\n",
        "print(dictionary['Daisy'])"
      ],
      "metadata": {
        "colab": {
          "base_uri": "https://localhost:8080/"
        },
        "id": "_2EyokcsuKFG",
        "outputId": "94f8a1fc-af72-46a8-d614-0925d3188df7"
      },
      "execution_count": null,
      "outputs": [
        {
          "output_type": "stream",
          "name": "stdout",
          "text": [
            "['England', 13]\n"
          ]
        }
      ]
    },
    {
      "cell_type": "code",
      "source": [
        "# Step 4: Add a new key value Ahmet with value [Turkey,24].\n",
        "dictionary['Ahmet'] = ['Turkey',24]\n",
        "print(dictionary['Ahmet'])"
      ],
      "metadata": {
        "colab": {
          "base_uri": "https://localhost:8080/"
        },
        "id": "yaioh-jJuT6U",
        "outputId": "62edb4da-7c7c-4ab6-adce-d77b95611514"
      },
      "execution_count": null,
      "outputs": [
        {
          "output_type": "stream",
          "name": "stdout",
          "text": [
            "['Turkey', 24]\n"
          ]
        }
      ]
    },
    {
      "cell_type": "code",
      "source": [
        "# Step 5: Delete Antonio from the dictionary.\n",
        "dictionary.pop('Antonio')\n",
        "print(dictionary.keys())"
      ],
      "metadata": {
        "colab": {
          "base_uri": "https://localhost:8080/"
        },
        "id": "q5suCR-Iuczc",
        "outputId": "8fc6691c-f431-4abe-df52-d7a8d82e5ea9"
      },
      "execution_count": null,
      "outputs": [
        {
          "output_type": "stream",
          "name": "stdout",
          "text": [
            "dict_keys(['Christian', 'Daisy', 'Dante', 'Ahmet'])\n"
          ]
        }
      ]
    },
    {
      "cell_type": "markdown",
      "source": [
        "# **Case 4: List Seperating with Function**"
      ],
      "metadata": {
        "id": "efAcGpTMvGRQ"
      }
    },
    {
      "cell_type": "code",
      "source": [
        "###############################################\n",
        "# Take a list as argument, assign the odd and even numbers in the list to separate lists, and then write a function that returns using these lists.\n",
        "###############################################\n",
        "l = [2, 13, 18, 93, 22]\n",
        "\n",
        "# Function to separate even and odd numbers in a given list\n",
        "def list_seperator(main_list):\n",
        "    \"\"\"\n",
        "    Separates the even and odd numbers in a given list.\n",
        "\n",
        "    Args:\n",
        "        main_list (list): The list containing numbers to be separated.\n",
        "\n",
        "    Returns:\n",
        "        tuple: A tuple containing two lists: even_list and odd_list.\n",
        "               even_list contains the even numbers from the main_list.\n",
        "               odd_list contains the odd numbers from the main_list.\n",
        "    \"\"\"\n",
        "    even_list = list()\n",
        "    odd_list = list()\n",
        "\n",
        "    # Iterate over each element in the main list\n",
        "    # Append even numbers to the even_list and odd numbers to the odd_list\n",
        "    [even_list.append(i) if i % 2 == 0 else odd_list.append(i) for i in main_list]\n",
        "\n",
        "    return even_list, odd_list"
      ],
      "metadata": {
        "id": "4t2DehwWvbg8"
      },
      "execution_count": null,
      "outputs": []
    },
    {
      "cell_type": "code",
      "source": [
        "# Call the list_seperator function with the list 'l'\n",
        "# Assign the returned values to even_list and odd_list variables\n",
        "even_list, odd_list = list_seperator(l)\n",
        "\n",
        "# Print the even_list and odd_list\n",
        "print(\"Even List:\", even_list)\n",
        "print(\"Odd List:\", odd_list)"
      ],
      "metadata": {
        "colab": {
          "base_uri": "https://localhost:8080/"
        },
        "id": "53XFbaSlxtmg",
        "outputId": "7a12b93f-b4d8-4a01-e36a-144e3cbaef65"
      },
      "execution_count": null,
      "outputs": [
        {
          "output_type": "stream",
          "name": "stdout",
          "text": [
            "Even List: [2, 18, 22]\n",
            "Odd List: [13, 93]\n"
          ]
        }
      ]
    },
    {
      "cell_type": "markdown",
      "source": [
        "# **Case 5: Faculty Defining**"
      ],
      "metadata": {
        "id": "DVj-BR-ZyKao"
      }
    },
    {
      "cell_type": "code",
      "source": [
        "###############################################\n",
        "# The names of the top students from the engineering and medical faculties are listed below.\n",
        "# Respectively, the first three students represent the order of success of the engineering faculty, while the last three students\n",
        "# belongs to medical school student rankings. Print student rankings by faculty using Enumarate.\n",
        "###############################################\n",
        "\"\"\"\n",
        "Expected output:\n",
        "\n",
        "Engineering faculty 1 . Student: Ali\n",
        "Engineering faculty 2 . Student: Veli\n",
        "Engineering faculty 3 . Student: Ayşe\n",
        "Medicine faculty 1 . Student: Talat\n",
        "Medicine faculty 2 . Student: Zeynep\n",
        "Medicine faculty 3 . Student: Ece\n",
        "\"\"\"\n",
        "\n",
        "students = [\"Ali\",\"Veli\",\"Ayşe\",\"Talat\",\"Zeynep\",\"Ece\"]"
      ],
      "metadata": {
        "id": "SeUUDkrPytPh"
      },
      "execution_count": null,
      "outputs": []
    },
    {
      "cell_type": "code",
      "source": [
        "for index, student in enumerate(students):\n",
        "    if index <= 2:\n",
        "        print(f\"Engineering faculty {index+1} . Student: {student}\")\n",
        "    else:\n",
        "        print(f\"Medicine faculty {index-2} . Student: {student}\")"
      ],
      "metadata": {
        "colab": {
          "base_uri": "https://localhost:8080/"
        },
        "id": "1d48OKFwzrY4",
        "outputId": "e5f23606-2526-4c5b-a1b0-725ddbfc44e5"
      },
      "execution_count": null,
      "outputs": [
        {
          "output_type": "stream",
          "name": "stdout",
          "text": [
            "Engineering faculty 1 . Student: Ali\n",
            "Engineering faculty 2 . Student: Veli\n",
            "Engineering faculty 3 . Student: Ayşe\n",
            "Medicine faculty 1 . Student: Talat\n",
            "Medicine faculty 2 . Student: Zeynep\n",
            "Medicine faculty 3 . Student: Ece\n"
          ]
        }
      ]
    },
    {
      "cell_type": "markdown",
      "source": [
        "# **Case 6: Multiple List Usage with Zip**"
      ],
      "metadata": {
        "id": "7sebnbmu1-fH"
      }
    },
    {
      "cell_type": "code",
      "source": [
        "###############################################\n",
        "# There are 3 lists below. The lists contain the code, credit and quota information of a course respectively. You should print the course information using Zip.\n",
        "###############################################\n",
        "\"\"\"\n",
        "Expected Output:\n",
        "\n",
        "The quota of the course coded CMP1005 with 3 credits is 30 people.\n",
        "\"\"\"\n",
        "\n",
        "course_code = ['CMP1005','PSY1001','HUK1005','SEN2204']\n",
        "credit = [3,4,2,4]\n",
        "quota = [30,75,150,25]"
      ],
      "metadata": {
        "id": "rSLov8E92Bll"
      },
      "execution_count": null,
      "outputs": []
    },
    {
      "cell_type": "code",
      "source": [
        "for i in zip(course_code, credit, quota):\n",
        "    print(f\"The quota of the course coded {i[0]} with {i[1]} credits is {i[2]} people.\")"
      ],
      "metadata": {
        "colab": {
          "base_uri": "https://localhost:8080/"
        },
        "id": "ey5CSLN03Ht_",
        "outputId": "cf5433c8-bfa8-4247-860b-236885c8b91c"
      },
      "execution_count": null,
      "outputs": [
        {
          "output_type": "stream",
          "name": "stdout",
          "text": [
            "The quota of the course coded CMP1005 with 3 credits is 30 people.\n",
            "The quota of the course coded PSY1001 with 4 credits is 75 people.\n",
            "The quota of the course coded HUK1005 with 2 credits is 150 people.\n",
            "The quota of the course coded SEN2204 with 4 credits is 25 people.\n"
          ]
        }
      ]
    },
    {
      "cell_type": "markdown",
      "source": [
        "# **Case 7: Interset Relation Check**"
      ],
      "metadata": {
        "id": "WkJtV4Z33gU8"
      }
    },
    {
      "cell_type": "code",
      "source": [
        "###############################################\n",
        "# Below 2 sets are given. You are expected to define the function that will print the common elements of set 1 if it covers set 2 and the difference of set 2 from set 1 if it does not.\n",
        "###############################################\n",
        "\"\"\"\n",
        "Expected Output:\n",
        "\n",
        "{'function', 'qcut', 'miuul', 'lambda'}\n",
        "\"\"\"\n",
        "\n",
        "set1 = set(['data','python'])\n",
        "set2 = set(['data','function','qcut','lambda','python','miuul'])"
      ],
      "metadata": {
        "id": "IKhjWvRs4hIw"
      },
      "execution_count": null,
      "outputs": []
    },
    {
      "cell_type": "code",
      "source": [
        "def set_relation_checker(set1,set2):\n",
        "    \"\"\"\n",
        "    Checks the containment relationship between two sets and determines the elements based on the containment.\n",
        "\n",
        "    Args:\n",
        "        set1 (set): The main set to check for containment.\n",
        "        set2 (set): The other set to check for containment.\n",
        "\n",
        "    Returns:\n",
        "        None: Prints the elements based on the containment relationship.\n",
        "\n",
        "    If set1 is a superset of set2, meaning set1 contains all elements of set2:\n",
        "        - Prints the intersection of set1 and set2.\n",
        "\n",
        "    If set1 is not a superset of set2, meaning set2 contains elements not present in set1:\n",
        "        - Prints the elements in set2 that are not in set1.\n",
        "    \"\"\"\n",
        "    if set1.issuperset(set2):\n",
        "        print(set1.intersection(set2))\n",
        "    else:\n",
        "        print(set2.difference(set1))"
      ],
      "metadata": {
        "id": "J752mmm44_uC"
      },
      "execution_count": null,
      "outputs": []
    },
    {
      "cell_type": "code",
      "source": [
        "set_relation_checker(set1,set2)"
      ],
      "metadata": {
        "colab": {
          "base_uri": "https://localhost:8080/"
        },
        "id": "tZ7WMNLk533c",
        "outputId": "99a50c2b-086f-4283-f542-06e28373e128"
      },
      "execution_count": null,
      "outputs": [
        {
          "output_type": "stream",
          "name": "stdout",
          "text": [
            "{'qcut', 'function', 'miuul', 'lambda'}\n"
          ]
        }
      ]
    }
  ]
}