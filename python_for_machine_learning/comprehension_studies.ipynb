{
  "nbformat": 4,
  "nbformat_minor": 0,
  "metadata": {
    "colab": {
      "provenance": [],
      "collapsed_sections": [
        "rO0Wnd5O-xeO",
        "MLiTjbxy_eJE",
        "Hhw3mumiP04m"
      ]
    },
    "kernelspec": {
      "name": "python3",
      "display_name": "Python 3"
    },
    "language_info": {
      "name": "python"
    }
  },
  "cells": [
    {
      "cell_type": "markdown",
      "source": [
        "# **Case 1: Capitalizing Numeric Variable Names**"
      ],
      "metadata": {
        "id": "rO0Wnd5O-xeO"
      }
    },
    {
      "cell_type": "code",
      "source": [
        "###############################################\n",
        "# Using the list comprehension structure, capitalize the names of the numeric variables in the car_crashes data and append NUM at the beginning.\n",
        "###############################################\n",
        "\n",
        "\"\"\"\n",
        "Expected Output:\n",
        "\n",
        "[\"NUM_TOTAL\",\n",
        "\"NUM_SPEEDING\",\n",
        "\"NUM_ALCOHOL\",\n",
        "\"NUM_NOT_DISTRACTED\",\n",
        "\"NUM_NO_PREVIOUS\",\n",
        "\"NUM_INS_PREMIUM\",\n",
        "\"NUM_INS_LOSSES\",\n",
        "\"ABBREV\",]\n",
        "\n",
        "\n",
        "*Names of non-numeric variables should also be capitalized\n",
        "*Only one list comprehension structure should be used\n",
        "\"\"\"\n",
        "\n",
        "import seaborn as sns\n",
        "df = sns.load_dataset(\"car_crashes\")\n",
        "print(df.columns)"
      ],
      "metadata": {
        "colab": {
          "base_uri": "https://localhost:8080/"
        },
        "id": "OQIcy8PZ-xCB",
        "outputId": "acfc0e00-ca8a-4146-92a4-6aae18bc85b4"
      },
      "execution_count": null,
      "outputs": [
        {
          "output_type": "stream",
          "name": "stdout",
          "text": [
            "Index(['total', 'speeding', 'alcohol', 'not_distracted', 'no_previous',\n",
            "       'ins_premium', 'ins_losses', 'abbrev'],\n",
            "      dtype='object')\n"
          ]
        }
      ]
    },
    {
      "cell_type": "code",
      "source": [
        "df.columns = [\"NUM_\"+col.capitalize() if df[col].dtype != \"O\" else col.capitalize() for col in df.columns]\n",
        "print(df.columns)"
      ],
      "metadata": {
        "colab": {
          "base_uri": "https://localhost:8080/"
        },
        "id": "kSg3pRnX_FFQ",
        "outputId": "01ca6900-e6e5-4d91-9e7f-8ac6190778ac"
      },
      "execution_count": null,
      "outputs": [
        {
          "output_type": "stream",
          "name": "stdout",
          "text": [
            "Index(['NUM_Total', 'NUM_Speeding', 'NUM_Alcohol', 'NUM_Not_distracted',\n",
            "       'NUM_No_previous', 'NUM_Ins_premium', 'NUM_Ins_losses', 'Abbrev'],\n",
            "      dtype='object')\n"
          ]
        }
      ]
    },
    {
      "cell_type": "markdown",
      "source": [
        "# **Case 2: Variable Flagging**"
      ],
      "metadata": {
        "id": "MLiTjbxy_eJE"
      }
    },
    {
      "cell_type": "code",
      "source": [
        "###############################################\n",
        "# Using list comprehension structure, write \"FLAG\" at the end of the names of the variables in the car_crashes data that do not contain \"no\" in their name.\n",
        "###############################################\n",
        "\n",
        "\"\"\"\n",
        "Expected Output:\n",
        "\n",
        "[\"TOTAL_FLAG\",\n",
        "\"SPEEDING_FLAG\",\n",
        "\"ALCOHOL_FLAG\",\n",
        "\"NOT_DISTRACTED\",\n",
        "\"NO_PREVIOUS\",\n",
        "\"INS_PREMIUM_FLAG\",\n",
        "\"INS_LOSSES_FLAG\",\n",
        "\"ABBREV_FLAG\"]\n",
        "\n",
        "*All variable names must be capitalized.\n",
        "*It should be done with a single list comprehension structure.\n",
        "\"\"\"\n",
        "\n",
        "import seaborn as sns\n",
        "df = sns.load_dataset(\"car_crashes\")"
      ],
      "metadata": {
        "id": "GLk7J_cFN9cw"
      },
      "execution_count": null,
      "outputs": []
    },
    {
      "cell_type": "code",
      "source": [
        "[col.upper()+\"_FLAG\" if \"no\" not in col else col.upper() for col in df.columns]"
      ],
      "metadata": {
        "colab": {
          "base_uri": "https://localhost:8080/"
        },
        "id": "sJmEC5LPO-Jw",
        "outputId": "e1af59b2-f6ed-4144-ac61-1c11b907b26d"
      },
      "execution_count": null,
      "outputs": [
        {
          "output_type": "execute_result",
          "data": {
            "text/plain": [
              "['TOTAL_FLAG',\n",
              " 'SPEEDING_FLAG',\n",
              " 'ALCOHOL_FLAG',\n",
              " 'NOT_DISTRACTED',\n",
              " 'NO_PREVIOUS',\n",
              " 'INS_PREMIUM_FLAG',\n",
              " 'INS_LOSSES_FLAG',\n",
              " 'ABBREV_FLAG']"
            ]
          },
          "metadata": {},
          "execution_count": 4
        }
      ]
    },
    {
      "cell_type": "markdown",
      "source": [
        "# **Case 3: Variable Selection - Creating New Dataframe**"
      ],
      "metadata": {
        "id": "Hhw3mumiP04m"
      }
    },
    {
      "cell_type": "code",
      "source": [
        "###############################################\n",
        "# Using List Comprehension structure, select the names of the variables that are different from the variable names given below and create a new dataframe.\n",
        "###############################################\n",
        "\n",
        "\"\"\"\n",
        "Expected Output:\n",
        "\n",
        "total\tspeeding\talcohol\tnot_distracted\tins_premium\tins_losses\n",
        "18.8\t7.332\t\t5.640\t18.048\t\t\t784.55\t\t145.08\n",
        "18.1\t7.421\t\t4.525\t16.290\t\t\t1053.48\t\t133.93\n",
        "18.6\t6.510\t\t5.208\t15.624\t\t\t899.47\t\t110.35\n",
        "22.4\t4.032\t\t5.824\t21.056\t\t\t827.34\t\t142.39\n",
        "12.0\t4.200\t\t3.360\t10.920\t\t\t878.41\t\t165.63\n",
        "\n",
        "*First create a new list named new_cols using list comprehension according to the given list.\n",
        "*Then create a new df by selecting these variables with df[new_cols] and name it new_df.\n",
        "\"\"\"\n",
        "\n",
        "import seaborn as sns\n",
        "df = sns.load_dataset(\"car_crashes\")\n",
        "og_list = ['abbrev','no_previous']"
      ],
      "metadata": {
        "id": "RyIAv3iZQbxn"
      },
      "execution_count": null,
      "outputs": []
    },
    {
      "cell_type": "code",
      "source": [
        "new_cols = [col for col in df.columns if col not in og_list]\n",
        "print(new_cols)"
      ],
      "metadata": {
        "colab": {
          "base_uri": "https://localhost:8080/"
        },
        "id": "SO0uf2z_QvSE",
        "outputId": "b96b53c0-f460-47b6-9ceb-f77746625824"
      },
      "execution_count": null,
      "outputs": [
        {
          "output_type": "stream",
          "name": "stdout",
          "text": [
            "['total', 'speeding', 'alcohol', 'not_distracted', 'ins_premium', 'ins_losses']\n"
          ]
        }
      ]
    },
    {
      "cell_type": "code",
      "source": [
        "new_df = df[new_cols]"
      ],
      "metadata": {
        "id": "F_3KHoLPR0M7"
      },
      "execution_count": null,
      "outputs": []
    },
    {
      "cell_type": "code",
      "source": [
        "new_df.head()"
      ],
      "metadata": {
        "colab": {
          "base_uri": "https://localhost:8080/",
          "height": 206
        },
        "id": "vSK2SRwYR1Jf",
        "outputId": "88b3d991-0fc7-4409-ed17-f583ca2febbd"
      },
      "execution_count": null,
      "outputs": [
        {
          "output_type": "execute_result",
          "data": {
            "text/plain": [
              "   total  speeding  alcohol  not_distracted  ins_premium  ins_losses\n",
              "0   18.8     7.332    5.640          18.048       784.55      145.08\n",
              "1   18.1     7.421    4.525          16.290      1053.48      133.93\n",
              "2   18.6     6.510    5.208          15.624       899.47      110.35\n",
              "3   22.4     4.032    5.824          21.056       827.34      142.39\n",
              "4   12.0     4.200    3.360          10.920       878.41      165.63"
            ],
            "text/html": [
              "\n",
              "\n",
              "  <div id=\"df-423c22da-33b6-426c-99de-f9b807900808\">\n",
              "    <div class=\"colab-df-container\">\n",
              "      <div>\n",
              "<style scoped>\n",
              "    .dataframe tbody tr th:only-of-type {\n",
              "        vertical-align: middle;\n",
              "    }\n",
              "\n",
              "    .dataframe tbody tr th {\n",
              "        vertical-align: top;\n",
              "    }\n",
              "\n",
              "    .dataframe thead th {\n",
              "        text-align: right;\n",
              "    }\n",
              "</style>\n",
              "<table border=\"1\" class=\"dataframe\">\n",
              "  <thead>\n",
              "    <tr style=\"text-align: right;\">\n",
              "      <th></th>\n",
              "      <th>total</th>\n",
              "      <th>speeding</th>\n",
              "      <th>alcohol</th>\n",
              "      <th>not_distracted</th>\n",
              "      <th>ins_premium</th>\n",
              "      <th>ins_losses</th>\n",
              "    </tr>\n",
              "  </thead>\n",
              "  <tbody>\n",
              "    <tr>\n",
              "      <th>0</th>\n",
              "      <td>18.8</td>\n",
              "      <td>7.332</td>\n",
              "      <td>5.640</td>\n",
              "      <td>18.048</td>\n",
              "      <td>784.55</td>\n",
              "      <td>145.08</td>\n",
              "    </tr>\n",
              "    <tr>\n",
              "      <th>1</th>\n",
              "      <td>18.1</td>\n",
              "      <td>7.421</td>\n",
              "      <td>4.525</td>\n",
              "      <td>16.290</td>\n",
              "      <td>1053.48</td>\n",
              "      <td>133.93</td>\n",
              "    </tr>\n",
              "    <tr>\n",
              "      <th>2</th>\n",
              "      <td>18.6</td>\n",
              "      <td>6.510</td>\n",
              "      <td>5.208</td>\n",
              "      <td>15.624</td>\n",
              "      <td>899.47</td>\n",
              "      <td>110.35</td>\n",
              "    </tr>\n",
              "    <tr>\n",
              "      <th>3</th>\n",
              "      <td>22.4</td>\n",
              "      <td>4.032</td>\n",
              "      <td>5.824</td>\n",
              "      <td>21.056</td>\n",
              "      <td>827.34</td>\n",
              "      <td>142.39</td>\n",
              "    </tr>\n",
              "    <tr>\n",
              "      <th>4</th>\n",
              "      <td>12.0</td>\n",
              "      <td>4.200</td>\n",
              "      <td>3.360</td>\n",
              "      <td>10.920</td>\n",
              "      <td>878.41</td>\n",
              "      <td>165.63</td>\n",
              "    </tr>\n",
              "  </tbody>\n",
              "</table>\n",
              "</div>\n",
              "      <button class=\"colab-df-convert\" onclick=\"convertToInteractive('df-423c22da-33b6-426c-99de-f9b807900808')\"\n",
              "              title=\"Convert this dataframe to an interactive table.\"\n",
              "              style=\"display:none;\">\n",
              "\n",
              "  <svg xmlns=\"http://www.w3.org/2000/svg\" height=\"24px\"viewBox=\"0 0 24 24\"\n",
              "       width=\"24px\">\n",
              "    <path d=\"M0 0h24v24H0V0z\" fill=\"none\"/>\n",
              "    <path d=\"M18.56 5.44l.94 2.06.94-2.06 2.06-.94-2.06-.94-.94-2.06-.94 2.06-2.06.94zm-11 1L8.5 8.5l.94-2.06 2.06-.94-2.06-.94L8.5 2.5l-.94 2.06-2.06.94zm10 10l.94 2.06.94-2.06 2.06-.94-2.06-.94-.94-2.06-.94 2.06-2.06.94z\"/><path d=\"M17.41 7.96l-1.37-1.37c-.4-.4-.92-.59-1.43-.59-.52 0-1.04.2-1.43.59L10.3 9.45l-7.72 7.72c-.78.78-.78 2.05 0 2.83L4 21.41c.39.39.9.59 1.41.59.51 0 1.02-.2 1.41-.59l7.78-7.78 2.81-2.81c.8-.78.8-2.07 0-2.86zM5.41 20L4 18.59l7.72-7.72 1.47 1.35L5.41 20z\"/>\n",
              "  </svg>\n",
              "      </button>\n",
              "\n",
              "\n",
              "\n",
              "    <div id=\"df-29819d75-6b71-4d92-b57c-67c9a4305a98\">\n",
              "      <button class=\"colab-df-quickchart\" onclick=\"quickchart('df-29819d75-6b71-4d92-b57c-67c9a4305a98')\"\n",
              "              title=\"Suggest charts.\"\n",
              "              style=\"display:none;\">\n",
              "\n",
              "<svg xmlns=\"http://www.w3.org/2000/svg\" height=\"24px\"viewBox=\"0 0 24 24\"\n",
              "     width=\"24px\">\n",
              "    <g>\n",
              "        <path d=\"M19 3H5c-1.1 0-2 .9-2 2v14c0 1.1.9 2 2 2h14c1.1 0 2-.9 2-2V5c0-1.1-.9-2-2-2zM9 17H7v-7h2v7zm4 0h-2V7h2v10zm4 0h-2v-4h2v4z\"/>\n",
              "    </g>\n",
              "</svg>\n",
              "      </button>\n",
              "    </div>\n",
              "\n",
              "<style>\n",
              "  .colab-df-quickchart {\n",
              "    background-color: #E8F0FE;\n",
              "    border: none;\n",
              "    border-radius: 50%;\n",
              "    cursor: pointer;\n",
              "    display: none;\n",
              "    fill: #1967D2;\n",
              "    height: 32px;\n",
              "    padding: 0 0 0 0;\n",
              "    width: 32px;\n",
              "  }\n",
              "\n",
              "  .colab-df-quickchart:hover {\n",
              "    background-color: #E2EBFA;\n",
              "    box-shadow: 0px 1px 2px rgba(60, 64, 67, 0.3), 0px 1px 3px 1px rgba(60, 64, 67, 0.15);\n",
              "    fill: #174EA6;\n",
              "  }\n",
              "\n",
              "  [theme=dark] .colab-df-quickchart {\n",
              "    background-color: #3B4455;\n",
              "    fill: #D2E3FC;\n",
              "  }\n",
              "\n",
              "  [theme=dark] .colab-df-quickchart:hover {\n",
              "    background-color: #434B5C;\n",
              "    box-shadow: 0px 1px 3px 1px rgba(0, 0, 0, 0.15);\n",
              "    filter: drop-shadow(0px 1px 2px rgba(0, 0, 0, 0.3));\n",
              "    fill: #FFFFFF;\n",
              "  }\n",
              "</style>\n",
              "\n",
              "    <script>\n",
              "      async function quickchart(key) {\n",
              "        const containerElement = document.querySelector('#' + key);\n",
              "        const charts = await google.colab.kernel.invokeFunction(\n",
              "            'suggestCharts', [key], {});\n",
              "      }\n",
              "    </script>\n",
              "\n",
              "      <script>\n",
              "\n",
              "function displayQuickchartButton(domScope) {\n",
              "  let quickchartButtonEl =\n",
              "    domScope.querySelector('#df-29819d75-6b71-4d92-b57c-67c9a4305a98 button.colab-df-quickchart');\n",
              "  quickchartButtonEl.style.display =\n",
              "    google.colab.kernel.accessAllowed ? 'block' : 'none';\n",
              "}\n",
              "\n",
              "        displayQuickchartButton(document);\n",
              "      </script>\n",
              "      <style>\n",
              "    .colab-df-container {\n",
              "      display:flex;\n",
              "      flex-wrap:wrap;\n",
              "      gap: 12px;\n",
              "    }\n",
              "\n",
              "    .colab-df-convert {\n",
              "      background-color: #E8F0FE;\n",
              "      border: none;\n",
              "      border-radius: 50%;\n",
              "      cursor: pointer;\n",
              "      display: none;\n",
              "      fill: #1967D2;\n",
              "      height: 32px;\n",
              "      padding: 0 0 0 0;\n",
              "      width: 32px;\n",
              "    }\n",
              "\n",
              "    .colab-df-convert:hover {\n",
              "      background-color: #E2EBFA;\n",
              "      box-shadow: 0px 1px 2px rgba(60, 64, 67, 0.3), 0px 1px 3px 1px rgba(60, 64, 67, 0.15);\n",
              "      fill: #174EA6;\n",
              "    }\n",
              "\n",
              "    [theme=dark] .colab-df-convert {\n",
              "      background-color: #3B4455;\n",
              "      fill: #D2E3FC;\n",
              "    }\n",
              "\n",
              "    [theme=dark] .colab-df-convert:hover {\n",
              "      background-color: #434B5C;\n",
              "      box-shadow: 0px 1px 3px 1px rgba(0, 0, 0, 0.15);\n",
              "      filter: drop-shadow(0px 1px 2px rgba(0, 0, 0, 0.3));\n",
              "      fill: #FFFFFF;\n",
              "    }\n",
              "  </style>\n",
              "\n",
              "      <script>\n",
              "        const buttonEl =\n",
              "          document.querySelector('#df-423c22da-33b6-426c-99de-f9b807900808 button.colab-df-convert');\n",
              "        buttonEl.style.display =\n",
              "          google.colab.kernel.accessAllowed ? 'block' : 'none';\n",
              "\n",
              "        async function convertToInteractive(key) {\n",
              "          const element = document.querySelector('#df-423c22da-33b6-426c-99de-f9b807900808');\n",
              "          const dataTable =\n",
              "            await google.colab.kernel.invokeFunction('convertToInteractive',\n",
              "                                                     [key], {});\n",
              "          if (!dataTable) return;\n",
              "\n",
              "          const docLinkHtml = 'Like what you see? Visit the ' +\n",
              "            '<a target=\"_blank\" href=https://colab.research.google.com/notebooks/data_table.ipynb>data table notebook</a>'\n",
              "            + ' to learn more about interactive tables.';\n",
              "          element.innerHTML = '';\n",
              "          dataTable['output_type'] = 'display_data';\n",
              "          await google.colab.output.renderOutput(dataTable, element);\n",
              "          const docLink = document.createElement('div');\n",
              "          docLink.innerHTML = docLinkHtml;\n",
              "          element.appendChild(docLink);\n",
              "        }\n",
              "      </script>\n",
              "    </div>\n",
              "  </div>\n"
            ]
          },
          "metadata": {},
          "execution_count": 8
        }
      ]
    }
  ]
}